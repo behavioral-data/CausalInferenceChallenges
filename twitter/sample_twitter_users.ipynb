{
 "cells": [
  {
   "cell_type": "markdown",
   "metadata": {},
   "source": [
    "# README\n",
    "\n",
    "first, in this notebook, we'll use Tim Dettmer's dump of 100gb of random twitter posts and group by user to see how many posts each user has. If they've not got many, then we'll use this to sample users from Twitter. If they have plenty of posts, then we'll just use Tim's data."
   ]
  },
  {
   "cell_type": "code",
   "execution_count": 1,
   "metadata": {},
   "outputs": [],
   "source": [
    "import os\n",
    "import sys\n",
    "import time"
   ]
  },
  {
   "cell_type": "code",
   "execution_count": 2,
   "metadata": {},
   "outputs": [],
   "source": [
    "os.environ['JAVA_HOME'] = '/usr/lib/jvm/java-1.8.0-openjdk-1.8.0.282.b08-1.el7_9.x86_64'  "
   ]
  },
  {
   "cell_type": "code",
   "execution_count": 3,
   "metadata": {},
   "outputs": [],
   "source": [
    "import pyspark\n",
    "from pyspark.sql import SparkSession\n",
    "from pyspark import SparkContext, SparkConf\n",
    "from pyspark.sql import functions as F\n",
    "from pyspark.sql.types import IntegerType"
   ]
  },
  {
   "cell_type": "code",
   "execution_count": 4,
   "metadata": {},
   "outputs": [
    {
     "name": "stdout",
     "output_type": "stream",
     "text": [
      "Creating Spark session.\n",
      "Spark session created.\n"
     ]
    }
   ],
   "source": [
    "print(\"Creating Spark session.\")\n",
    "configuation_properties = [\n",
    "    (\"spark.master\",\"local[95]\"),\n",
    "    (\"spark.ui.port\",\"4050\"),\n",
    "    (\"spark.executor.memory\",\"750g\"),\n",
    "    ('spark.driver.memory',  '2000g'),\n",
    "    (\"spark.network.timeout\",            \"10000001\"),\n",
    "    (\"spark.executor.heartbeatInterval\", \"10000000\")\n",
    "    #(\"spark.dynamicAllocation.enabled\",\"true\"),\n",
    "    #(\"spark.shuffle.service.enabled\",\"true\"),\n",
    "]\n",
    "\n",
    "conf = SparkConf().setAll( configuation_properties )\n",
    "\n",
    "# create the context\n",
    "sc = pyspark.SparkContext(conf=conf)\n",
    "spark = SparkSession.builder.getOrCreate()\n",
    "\n",
    "# for logging temporarily\n",
    "# sc.setLogLevel('DEBUG')\n",
    "print(\"Spark session created.\")"
   ]
  },
  {
   "cell_type": "code",
   "execution_count": 5,
   "metadata": {},
   "outputs": [
    {
     "name": "stdout",
     "output_type": "stream",
     "text": [
      "Loading data from /projects/bdata/bdatasets/data/twitter_data_2020-12-03_0.json.\n",
      "Finished loading in 1.780 minutes.\n"
     ]
    }
   ],
   "source": [
    "#path = '/projects/bdata/bdatasets/data/twitter_data_2020-12-03_0.json'\n",
    "path = '/projects/bdata/bdatasets/data/twitter_data_*.json'\n",
    "\n",
    "print(f'Loading data from {path}.')\n",
    "start_time = time.monotonic()\n",
    "\n",
    "data = spark.read.json(path)\n",
    "\n",
    "print(\"Finished loading in {:5.3f} minutes.\".format( (time.monotonic()-start_time)/60 ))"
   ]
  },
  {
   "cell_type": "code",
   "execution_count": 6,
   "metadata": {},
   "outputs": [
    {
     "name": "stdout",
     "output_type": "stream",
     "text": [
      "Loaded 2,249,991 tweets\n"
     ]
    }
   ],
   "source": [
    "print(f'Loaded {data.count():,d} tweets')"
   ]
  },
  {
   "cell_type": "markdown",
   "metadata": {},
   "source": [
    "# after digging in the complex schema...\n",
    "\n",
    "it seems we only care about two or three columns:\n",
    "\n",
    "- text\n",
    "- user.screen_name\n",
    "- created_at"
   ]
  },
  {
   "cell_type": "code",
   "execution_count": 7,
   "metadata": {},
   "outputs": [],
   "source": [
    "# chuck all the other columns\n",
    "data = data.select(['user.screen_name', 'text'])"
   ]
  },
  {
   "cell_type": "code",
   "execution_count": 8,
   "metadata": {},
   "outputs": [],
   "source": [
    "users = data.groupBy('screen_name').count().orderBy( F.col('count').desc() )"
   ]
  },
  {
   "cell_type": "code",
   "execution_count": 9,
   "metadata": {},
   "outputs": [
    {
     "name": "stdout",
     "output_type": "stream",
     "text": [
      "Found 182,790 unique users.\n"
     ]
    }
   ],
   "source": [
    "num_users = users.count()\n",
    "print(f'Found {num_users:,d} unique users.')"
   ]
  },
  {
   "cell_type": "code",
   "execution_count": 11,
   "metadata": {},
   "outputs": [
    {
     "name": "stdout",
     "output_type": "stream",
     "text": [
      "Finished computing and writing output in 0.070 minutes.\n"
     ]
    }
   ],
   "source": [
    "# sample users and write to file\n",
    "start_time = time.monotonic()\n",
    "\n",
    "frac_to_sample = 10000 / num_users # want 8,000 users, let's get 10,000 just to be safe\n",
    "sample = users.sample(withReplacement=False, fraction=frac_to_sample, seed=123456)\n",
    "sample.coalesce(1).write.csv( 'random_users_sample', mode='overwrite', header=False)\n",
    "\n",
    "print(\"Finished computing and writing output in {:5.3f} minutes.\".format( (time.monotonic()-start_time)/60 ))"
   ]
  },
  {
   "cell_type": "code",
   "execution_count": 12,
   "metadata": {},
   "outputs": [],
   "source": [
    "users = users.filter( F.col('count') >= F.lit(10) )"
   ]
  },
  {
   "cell_type": "code",
   "execution_count": 13,
   "metadata": {},
   "outputs": [
    {
     "name": "stdout",
     "output_type": "stream",
     "text": [
      "55,387 users have at least 10 tweets.\n"
     ]
    }
   ],
   "source": [
    "print(f'{users.count():,d} users have at least 10 tweets.')"
   ]
  },
  {
   "cell_type": "code",
   "execution_count": null,
   "metadata": {},
   "outputs": [],
   "source": []
  }
 ],
 "metadata": {
  "kernelspec": {
   "display_name": "Python [conda env:reddit_moderation]",
   "language": "python",
   "name": "conda-env-reddit_moderation-py"
  },
  "language_info": {
   "codemirror_mode": {
    "name": "ipython",
    "version": 3
   },
   "file_extension": ".py",
   "mimetype": "text/x-python",
   "name": "python",
   "nbconvert_exporter": "python",
   "pygments_lexer": "ipython3",
   "version": "3.7.4"
  }
 },
 "nbformat": 4,
 "nbformat_minor": 4
}
